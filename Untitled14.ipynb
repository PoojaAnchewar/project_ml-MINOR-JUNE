{
  "nbformat": 4,
  "nbformat_minor": 0,
  "metadata": {
    "colab": {
      "name": "Untitled14.ipynb",
      "provenance": [],
      "collapsed_sections": []
    },
    "kernelspec": {
      "name": "python3",
      "display_name": "Python 3"
    },
    "language_info": {
      "name": "python"
    }
  },
  "cells": [
    {
      "cell_type": "code",
      "metadata": {
        "id": "GyxBm0PpEufB"
      },
      "source": [
        "import numpy as np\n",
        "import pandas as pd\n",
        "import matplotlib.pyplot as plt"
      ],
      "execution_count": 6,
      "outputs": []
    },
    {
      "cell_type": "markdown",
      "metadata": {
        "id": "VNIqFux_IngD"
      },
      "source": [
        "# Read data from CSV file:"
      ]
    },
    {
      "cell_type": "code",
      "metadata": {
        "id": "7F2WwiQYGFGz"
      },
      "source": [
        "df = pd.read_csv(\"/content/Iris (1) (1).csv\")"
      ],
      "execution_count": 7,
      "outputs": []
    },
    {
      "cell_type": "markdown",
      "metadata": {
        "id": "DMqG0f90JA5q"
      },
      "source": [
        "# printing the data from CSV file:"
      ]
    },
    {
      "cell_type": "code",
      "metadata": {
        "colab": {
          "base_uri": "https://localhost:8080/"
        },
        "id": "92NhSgYsGNXw",
        "outputId": "4784fc2c-a986-4ed9-bb8a-37ea73d08e30"
      },
      "source": [
        "print(df)"
      ],
      "execution_count": 8,
      "outputs": [
        {
          "output_type": "stream",
          "text": [
            "      Id  SepalLengthCm  ...  PetalWidthCm         Species\n",
            "0      1            5.1  ...           0.2     Iris-setosa\n",
            "1      2            4.9  ...           0.2     Iris-setosa\n",
            "2      3            4.7  ...           0.2     Iris-setosa\n",
            "3      4            4.6  ...           0.2     Iris-setosa\n",
            "4      5            5.0  ...           0.2     Iris-setosa\n",
            "..   ...            ...  ...           ...             ...\n",
            "145  146            6.7  ...           2.3  Iris-virginica\n",
            "146  147            6.3  ...           1.9  Iris-virginica\n",
            "147  148            6.5  ...           2.0  Iris-virginica\n",
            "148  149            6.2  ...           2.3  Iris-virginica\n",
            "149  150            5.9  ...           1.8  Iris-virginica\n",
            "\n",
            "[150 rows x 6 columns]\n"
          ],
          "name": "stdout"
        }
      ]
    },
    {
      "cell_type": "markdown",
      "metadata": {
        "id": "3Qb6-qzBJXKO"
      },
      "source": [
        "# Defining data and label:"
      ]
    },
    {
      "cell_type": "code",
      "metadata": {
        "id": "OJwO9xTeGVfS"
      },
      "source": [
        "X = df.iloc[:, 1:5]\n",
        "y= df.iloc[:,5]"
      ],
      "execution_count": 9,
      "outputs": []
    },
    {
      "cell_type": "markdown",
      "metadata": {
        "id": "gOvEJw0MJaMS"
      },
      "source": [
        "# Split data into training and test databasets."
      ]
    },
    {
      "cell_type": "code",
      "metadata": {
        "id": "zyp89jdTGyUM"
      },
      "source": [
        "from sklearn.model_selection import train_test_split\n"
      ],
      "execution_count": 10,
      "outputs": []
    },
    {
      "cell_type": "code",
      "metadata": {
        "id": "tRdDGawQG-po"
      },
      "source": [
        "X_train, X_test, y_train, y_test = train_test_split(X, y, test_size=0.3, random_state=0)"
      ],
      "execution_count": 11,
      "outputs": []
    },
    {
      "cell_type": "code",
      "metadata": {
        "colab": {
          "base_uri": "https://localhost:8080/"
        },
        "id": "Y217osKXHnRT",
        "outputId": "ff749053-bd71-471a-8ef8-fdff0c30c2d2"
      },
      "source": [
        "print('There are {} samples in the training set and {} samples in the test set'.format(X_train.shape[0], X_test.shape[0]))"
      ],
      "execution_count": 12,
      "outputs": [
        {
          "output_type": "stream",
          "text": [
            "There are 105 samples in the training set and 45 samples in the test set\n"
          ],
          "name": "stdout"
        }
      ]
    },
    {
      "cell_type": "markdown",
      "metadata": {
        "id": "QpkMmD3oKs2k"
      },
      "source": [
        "# Scaling data:"
      ]
    },
    {
      "cell_type": "code",
      "metadata": {
        "id": "Y8enU60mKyUN"
      },
      "source": [
        "from sklearn.preprocessing import StandardScaler\n",
        "from sklearn.model_selection import cross_val_score\n"
      ],
      "execution_count": 13,
      "outputs": []
    },
    {
      "cell_type": "code",
      "metadata": {
        "id": "tRfYs5U8IZ81"
      },
      "source": [
        "sc = StandardScaler()\n",
        "sc.fit(X_train)\n",
        "X_train_std = sc.transform(X_train)\n",
        "X_train_std = sc.transform(X_test)"
      ],
      "execution_count": 23,
      "outputs": []
    },
    {
      "cell_type": "markdown",
      "metadata": {
        "id": "dLqMyRceMvrR"
      },
      "source": [
        "# Applying Support Vector Classifier:"
      ]
    },
    {
      "cell_type": "code",
      "metadata": {
        "id": "nnRTgyivMFKr",
        "colab": {
          "base_uri": "https://localhost:8080/"
        },
        "outputId": "6ae7089b-c914-4645-f4ab-b33ea0df707f"
      },
      "source": [
        "from sklearn.svm import SVC\n",
        "\n",
        "svm = SVC(kernel='rbf', random_state=0,gamma=.10,C=1.0)\n",
        "svm.fit(X_train, y_train)\n",
        "print('The accurancy of the SVM classifier on training data is {:.2f}'.format(svm.score(X_train, y_train)))\n",
        "print('The accurancy of the SVM classifier on testing data is {:.2f}'.format(svm.score(X_test, y_test)))\n"
      ],
      "execution_count": 18,
      "outputs": [
        {
          "output_type": "stream",
          "text": [
            "The accurancy of the SVM classifier on training data is 0.97\n",
            "The accurancy of the SVM classifier on testing data is 0.98\n"
          ],
          "name": "stdout"
        }
      ]
    },
    {
      "cell_type": "markdown",
      "metadata": {
        "id": "E0WtodDmWV4h"
      },
      "source": [
        "# Applying Decision Tree Classifier"
      ]
    },
    {
      "cell_type": "code",
      "metadata": {
        "colab": {
          "base_uri": "https://localhost:8080/"
        },
        "id": "f-7zA8_UV1nv",
        "outputId": "693a25c6-a5e4-494b-b1b2-5e6ea11ac1e6"
      },
      "source": [
        "from sklearn import tree\n",
        "decision_tree = tree.DecisionTreeClassifier(criterion='gini')\n",
        "decision_tree.fit(X_train, y_train)\n",
        "print('The accurancy of the Decision tree classifier on training data is {:.2f}'.format(decision_tree.score(X_train, y_train)))\n",
        "print('The accurancy of the Decision tree classifier on testing data is {:.2f}'.format(decision_tree.score(X_test, y_test)))\n"
      ],
      "execution_count": 22,
      "outputs": [
        {
          "output_type": "stream",
          "text": [
            "The accurancy of the Decision tree classifier on training data is 1.00\n",
            "The accurancy of the Decision tree classifier on testing data is 0.98\n"
          ],
          "name": "stdout"
        }
      ]
    }
  ]
}